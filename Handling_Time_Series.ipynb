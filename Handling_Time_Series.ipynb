{
 "cells": [
  {
   "cell_type": "code",
   "execution_count": 1,
   "metadata": {},
   "outputs": [],
   "source": [
    "import pandas as pd\n",
    "import os"
   ]
  },
  {
   "cell_type": "code",
   "execution_count": 2,
   "metadata": {},
   "outputs": [],
   "source": [
    "master = pd.read_pickle(os.path.join(\"..\", \"all_that_pickle\", \"master.pickle\"))\n",
    "team_splits = pd.read_pickle(os.path.join(\"..\", \"all_that_pickle\", \"team_splits_mi.pickle\"))"
   ]
  },
  {
   "cell_type": "code",
   "execution_count": 4,
   "metadata": {},
   "outputs": [
    {
     "data": {
      "text/plain": [
       "Index(['firstName', 'lastName', 'pos', 'birthYear', 'birthMon', 'birthDay',\n",
       "       'birthCountry', 'birthState', 'birthCity'],\n",
       "      dtype='object')"
      ]
     },
     "execution_count": 4,
     "metadata": {},
     "output_type": "execute_result"
    }
   ],
   "source": [
    "master.columns"
   ]
  },
  {
   "cell_type": "code",
   "execution_count": 4,
   "metadata": {},
   "outputs": [
    {
     "data": {
      "text/html": [
       "<div>\n",
       "<style scoped>\n",
       "    .dataframe tbody tr th:only-of-type {\n",
       "        vertical-align: middle;\n",
       "    }\n",
       "\n",
       "    .dataframe tbody tr th {\n",
       "        vertical-align: top;\n",
       "    }\n",
       "\n",
       "    .dataframe thead th {\n",
       "        text-align: right;\n",
       "    }\n",
       "</style>\n",
       "<table border=\"1\" class=\"dataframe\">\n",
       "  <thead>\n",
       "    <tr style=\"text-align: right;\">\n",
       "      <th></th>\n",
       "      <th>firstName</th>\n",
       "      <th>lastName</th>\n",
       "      <th>pos</th>\n",
       "      <th>birthCountry</th>\n",
       "      <th>birthState</th>\n",
       "      <th>birthCity</th>\n",
       "      <th>birthDate</th>\n",
       "    </tr>\n",
       "    <tr>\n",
       "      <th>playerID</th>\n",
       "      <th></th>\n",
       "      <th></th>\n",
       "      <th></th>\n",
       "      <th></th>\n",
       "      <th></th>\n",
       "      <th></th>\n",
       "      <th></th>\n",
       "    </tr>\n",
       "  </thead>\n",
       "  <tbody>\n",
       "    <tr>\n",
       "      <th>aaltoan01</th>\n",
       "      <td>Antti</td>\n",
       "      <td>Aalto</td>\n",
       "      <td>C</td>\n",
       "      <td>Finland</td>\n",
       "      <td>NaN</td>\n",
       "      <td>Lappeenranta</td>\n",
       "      <td>1975-03-04</td>\n",
       "    </tr>\n",
       "    <tr>\n",
       "      <th>abdelju01</th>\n",
       "      <td>Justin</td>\n",
       "      <td>Abdelkader</td>\n",
       "      <td>L</td>\n",
       "      <td>USA</td>\n",
       "      <td>MI</td>\n",
       "      <td>Muskegon</td>\n",
       "      <td>1987-02-25</td>\n",
       "    </tr>\n",
       "    <tr>\n",
       "      <th>abidra01</th>\n",
       "      <td>Ramzi</td>\n",
       "      <td>Abid</td>\n",
       "      <td>L</td>\n",
       "      <td>Canada</td>\n",
       "      <td>QC</td>\n",
       "      <td>Montreal</td>\n",
       "      <td>1980-03-24</td>\n",
       "    </tr>\n",
       "  </tbody>\n",
       "</table>\n",
       "</div>"
      ],
      "text/plain": [
       "          firstName    lastName pos birthCountry birthState     birthCity  \\\n",
       "playerID                                                                    \n",
       "aaltoan01     Antti       Aalto   C      Finland        NaN  Lappeenranta   \n",
       "abdelju01    Justin  Abdelkader   L          USA         MI      Muskegon   \n",
       "abidra01      Ramzi        Abid   L       Canada         QC      Montreal   \n",
       "\n",
       "           birthDate  \n",
       "playerID              \n",
       "aaltoan01 1975-03-04  \n",
       "abdelju01 1987-02-25  \n",
       "abidra01  1980-03-24  "
      ]
     },
     "execution_count": 4,
     "metadata": {},
     "output_type": "execute_result"
    }
   ],
   "source": [
    "# Using assign to create a new column 'birthDate', based on a function that produces its values.\n",
    "master = master.assign(birthDate = pd.to_datetime(\n",
    "                                        {\n",
    "                                            'year': master.birthYear,\n",
    "                                            'month' : master.birthMon,\n",
    "                                            'day' : master.birthDay\n",
    "                                        }\n",
    "))\n",
    "master = master.drop(columns=['birthYear','birthMon','birthDay'])\n",
    "master.head(3)"
   ]
  },
  {
   "cell_type": "code",
   "execution_count": 8,
   "metadata": {},
   "outputs": [
    {
     "data": {
      "text/plain": [
       "playerID\n",
       "aaltoan01   1975-03-04\n",
       "abdelju01   1987-02-25\n",
       "Name: birthDate, dtype: datetime64[ns]"
      ]
     },
     "execution_count": 8,
     "metadata": {},
     "output_type": "execute_result"
    }
   ],
   "source": [
    "master.birthDate.head(2) # dtype is datetime"
   ]
  },
  {
   "cell_type": "code",
   "execution_count": 9,
   "metadata": {},
   "outputs": [
    {
     "data": {
      "text/plain": [
       "Timestamp('1975-03-04 00:00:00')"
      ]
     },
     "execution_count": 9,
     "metadata": {},
     "output_type": "execute_result"
    }
   ],
   "source": [
    "master.birthDate[0]  # Timestamp dtype"
   ]
  },
  {
   "cell_type": "code",
   "execution_count": 11,
   "metadata": {},
   "outputs": [
    {
     "name": "stdout",
     "output_type": "stream",
     "text": [
      "Tuesday, 4 March 1975\n"
     ]
    }
   ],
   "source": [
    "ts = master.birthDate[0]\n",
    "print(u\"{}, {} {} {}\".format(ts.day_name(), ts.day, ts.month_name(), ts.year))"
   ]
  },
  {
   "cell_type": "code",
   "execution_count": 12,
   "metadata": {},
   "outputs": [
    {
     "data": {
      "text/plain": [
       "Timestamp('1975-03-04 00:00:00-0500', tz='America/Toronto')"
      ]
     },
     "execution_count": 12,
     "metadata": {},
     "output_type": "execute_result"
    }
   ],
   "source": [
    "tsz = ts.tz_localize('America/Toronto')\n",
    "tsz"
   ]
  },
  {
   "cell_type": "code",
   "execution_count": 13,
   "metadata": {},
   "outputs": [
    {
     "data": {
      "text/plain": [
       "Timestamp('1975-03-04 05:00:00+0000', tz='Europe/London')"
      ]
     },
     "execution_count": 13,
     "metadata": {},
     "output_type": "execute_result"
    }
   ],
   "source": [
    "tsz.tz_convert('Europe/London')  # Converting to GMT"
   ]
  },
  {
   "cell_type": "code",
   "execution_count": 37,
   "metadata": {},
   "outputs": [
    {
     "data": {
      "text/plain": [
       "playerID\n",
       "aaltoan01    1975\n",
       "abdelju01    1987\n",
       "Name: birthDate, dtype: int64"
      ]
     },
     "execution_count": 37,
     "metadata": {},
     "output_type": "execute_result"
    }
   ],
   "source": [
    "years = master.birthDate.dt.year  # replace year with month & day to get their values.\n",
    "years.head(2)"
   ]
  },
  {
   "cell_type": "code",
   "execution_count": 5,
   "metadata": {},
   "outputs": [
    {
     "data": {
      "text/plain": [
       "playerID\n",
       "aaltoan01    1975-03-04\n",
       "abdelju01    1987-02-25\n",
       "abidra01     1980-03-24\n",
       "Name: birthDate, dtype: object"
      ]
     },
     "execution_count": 5,
     "metadata": {},
     "output_type": "execute_result"
    }
   ],
   "source": [
    "strings = master.birthDate.dt.strftime(\"%Y-%m-%d\") # Alternatively, dates = pd.to_datetime(strings)\n",
    "strings.head(3)"
   ]
  },
  {
   "cell_type": "code",
   "execution_count": 36,
   "metadata": {},
   "outputs": [
    {
     "data": {
      "text/plain": [
       "playerID\n",
       "aaltoan01    1975xx03xx04\n",
       "abdelju01    1987xx02xx25\n",
       "Name: birthDate, dtype: object"
      ]
     },
     "execution_count": 36,
     "metadata": {},
     "output_type": "execute_result"
    }
   ],
   "source": [
    "strings = strings.str.replace(\"-\", \"xx\")\n",
    "strings.head(2)"
   ]
  },
  {
   "cell_type": "code",
   "execution_count": 27,
   "metadata": {},
   "outputs": [
    {
     "name": "stdout",
     "output_type": "stream",
     "text": [
      "('Unknown string format:', '1975xx03xx04')\n"
     ]
    }
   ],
   "source": [
    "try:\n",
    "    pd.to_datetime(strings)\n",
    "except Exception as e:\n",
    "    print(e)"
   ]
  },
  {
   "cell_type": "code",
   "execution_count": 35,
   "metadata": {},
   "outputs": [
    {
     "data": {
      "text/plain": [
       "playerID\n",
       "aaltoan01   1975-03-04\n",
       "abdelju01   1987-02-25\n",
       "Name: birthDate, dtype: datetime64[ns]"
      ]
     },
     "execution_count": 35,
     "metadata": {},
     "output_type": "execute_result"
    }
   ],
   "source": [
    "parsed = pd.to_datetime(strings, format=\"%Yxx%mxx%d\")\n",
    "parsed.head(2)"
   ]
  },
  {
   "cell_type": "code",
   "execution_count": 31,
   "metadata": {},
   "outputs": [
    {
     "name": "stdout",
     "output_type": "stream",
     "text": [
      "time data 'xx123' does not match format '%Yxx%mxx%d' (match)\n"
     ]
    }
   ],
   "source": [
    "strings_error = strings.copy()\n",
    "strings_error.iloc[34] = \"xx123\"\n",
    "\n",
    "try:\n",
    "    pd.to_datetime(strings_error, format=\"%Yxx%mxx%d\")\n",
    "except Exception as e:\n",
    "    print(e)\n",
    "    "
   ]
  },
  {
   "cell_type": "code",
   "execution_count": 32,
   "metadata": {},
   "outputs": [
    {
     "data": {
      "text/plain": [
       "NaT"
      ]
     },
     "execution_count": 32,
     "metadata": {},
     "output_type": "execute_result"
    }
   ],
   "source": [
    "# If there are some dates that do not conform to the given format then we can use 'coerce' option. This will give out\n",
    "# NaT values for them. Try not to use the 'ignore' option.\n",
    "\n",
    "parsed = pd.to_datetime(strings_error, format=\"%Yxx%mxx%d\", errors='coerce')\n",
    "parsed.iloc[34]"
   ]
  },
  {
   "cell_type": "code",
   "execution_count": 6,
   "metadata": {},
   "outputs": [
    {
     "data": {
      "text/plain": [
       "birthDate\n",
       "1940-01-27    harpete01\n",
       "1940-03-22     keonda01\n",
       "1940-10-03    ratelje01\n",
       "Name: playerID, dtype: object"
      ]
     },
     "execution_count": 6,
     "metadata": {},
     "output_type": "execute_result"
    }
   ],
   "source": [
    "birth_dates = pd.Series(master.index, index=master.birthDate).sort_index() # always good to sort the index.\n",
    "birth_dates.head(3)"
   ]
  },
  {
   "cell_type": "code",
   "execution_count": 7,
   "metadata": {},
   "outputs": [
    {
     "data": {
      "text/plain": [
       "birthDate\n",
       "1980-01-02    zalesmi01\n",
       "1980-01-10    stanara01\n",
       "1980-01-13    bouckty01\n",
       "Name: playerID, dtype: object"
      ]
     },
     "execution_count": 7,
     "metadata": {},
     "output_type": "execute_result"
    }
   ],
   "source": [
    "born_1980 = birth_dates['1980']  # when dealing with timeseries pandas is clever enough to know you mean the year.\n",
    "born_1980.head(3)"
   ]
  },
  {
   "cell_type": "code",
   "execution_count": 43,
   "metadata": {},
   "outputs": [
    {
     "data": {
      "text/plain": [
       "birthDate\n",
       "1980-07-03    miettan01\n",
       "1980-07-05    huntetr01\n",
       "1980-07-08    chouier01\n",
       "1980-07-15    cheecjo01\n",
       "1980-07-17    millery01\n",
       "1980-07-19    tanabda01\n",
       "1980-07-20    arsende01\n",
       "1980-07-22    kalindm01\n",
       "1980-07-24    jillsje01\n",
       "1980-07-24    printda01\n",
       "1980-07-31    fischji01\n",
       "Name: playerID, dtype: object"
      ]
     },
     "execution_count": 43,
     "metadata": {},
     "output_type": "execute_result"
    }
   ],
   "source": [
    "birth_dates['1980-07']\n",
    "birth_dates['1980-07-24']\n",
    "birth_dates['1980-07-20':'1980-07-31']  # both upper & lower dates are included."
   ]
  },
  {
   "cell_type": "markdown",
   "metadata": {},
   "source": [
    "# About timedeltas"
   ]
  },
  {
   "cell_type": "code",
   "execution_count": 44,
   "metadata": {},
   "outputs": [
    {
     "data": {
      "text/plain": [
       "Timedelta('55 days 00:00:00')"
      ]
     },
     "execution_count": 44,
     "metadata": {},
     "output_type": "execute_result"
    }
   ],
   "source": [
    "diff = birth_dates.index[1] - birth_dates.index[0]\n",
    "diff"
   ]
  },
  {
   "cell_type": "code",
   "execution_count": 45,
   "metadata": {},
   "outputs": [
    {
     "data": {
      "text/plain": [
       "Timestamp('1945-11-02 00:00:00')"
      ]
     },
     "execution_count": 45,
     "metadata": {},
     "output_type": "execute_result"
    }
   ],
   "source": [
    "birth_dates.index[10] + diff"
   ]
  },
  {
   "cell_type": "code",
   "execution_count": 48,
   "metadata": {},
   "outputs": [
    {
     "data": {
      "text/plain": [
       "TimedeltaIndex([    '0 days',    '55 days',   '250 days',   '755 days',\n",
       "                 '1182 days',  '1508 days',  '1808 days',  '1829 days',\n",
       "                 '1887 days',  '1975 days',\n",
       "                ...\n",
       "                '19179 days', '19218 days', '19245 days', '19267 days',\n",
       "                '19283 days', '19294 days', '19308 days', '19406 days',\n",
       "                '19434 days', '19440 days'],\n",
       "               dtype='timedelta64[ns]', name='birthDate', length=4627, freq=None)"
      ]
     },
     "execution_count": 48,
     "metadata": {},
     "output_type": "execute_result"
    }
   ],
   "source": [
    "# We can also subtract for the whole time index instead of doing individually.\n",
    "birth_dates.index - birth_dates.index[0]"
   ]
  },
  {
   "cell_type": "code",
   "execution_count": 49,
   "metadata": {},
   "outputs": [
    {
     "data": {
      "text/plain": [
       "Components(days=55, hours=0, minutes=0, seconds=0, milliseconds=0, microseconds=0, nanoseconds=0)"
      ]
     },
     "execution_count": 49,
     "metadata": {},
     "output_type": "execute_result"
    }
   ],
   "source": [
    "diff.components"
   ]
  },
  {
   "cell_type": "code",
   "execution_count": 50,
   "metadata": {},
   "outputs": [
    {
     "data": {
      "text/plain": [
       "Timedelta('55 days 04:50:00')"
      ]
     },
     "execution_count": 50,
     "metadata": {},
     "output_type": "execute_result"
    }
   ],
   "source": [
    "# We can add and subtract hours and times\n",
    "diff = diff + '5H' - '10M'\n",
    "diff"
   ]
  },
  {
   "cell_type": "code",
   "execution_count": 51,
   "metadata": {},
   "outputs": [
    {
     "data": {
      "text/plain": [
       "Timedelta('60 days 00:00:00')"
      ]
     },
     "execution_count": 51,
     "metadata": {},
     "output_type": "execute_result"
    }
   ],
   "source": [
    "# we can round it to days or hours.\n",
    "diff.round('10D')"
   ]
  },
  {
   "cell_type": "code",
   "execution_count": 52,
   "metadata": {},
   "outputs": [
    {
     "data": {
      "text/plain": [
       "Timedelta('55 days 05:00:00')"
      ]
     },
     "execution_count": 52,
     "metadata": {},
     "output_type": "execute_result"
    }
   ],
   "source": [
    "diff.round('1H')"
   ]
  },
  {
   "cell_type": "code",
   "execution_count": 53,
   "metadata": {},
   "outputs": [
    {
     "data": {
      "text/plain": [
       "PeriodIndex(['1940-01-27', '1940-03-22', '1940-10-03', '1942-02-20',\n",
       "             '1943-04-23', '1944-03-14', '1945-01-08', '1945-01-29',\n",
       "             '1945-03-28', '1945-06-24',\n",
       "             ...\n",
       "             '1992-07-31', '1992-09-08', '1992-10-05', '1992-10-27',\n",
       "             '1992-11-12', '1992-11-23', '1992-12-07', '1993-03-15',\n",
       "             '1993-04-12', '1993-04-18'],\n",
       "            dtype='period[D]', name='birthDate', length=4627, freq='D')"
      ]
     },
     "execution_count": 53,
     "metadata": {},
     "output_type": "execute_result"
    }
   ],
   "source": [
    "# Creating period.\n",
    "birth_dates = birth_dates.to_period(freq=\"D\")\n",
    "birth_dates.index"
   ]
  },
  {
   "cell_type": "code",
   "execution_count": 54,
   "metadata": {},
   "outputs": [
    {
     "data": {
      "text/plain": [
       "Period('1940-01-27', 'D')"
      ]
     },
     "execution_count": 54,
     "metadata": {},
     "output_type": "execute_result"
    }
   ],
   "source": [
    "birth_dates.index[0]"
   ]
  },
  {
   "cell_type": "code",
   "execution_count": 56,
   "metadata": {},
   "outputs": [
    {
     "name": "stdout",
     "output_type": "stream",
     "text": [
      "1940-01-27 00:00:00\n",
      "1940-01-27 23:59:59.999999999\n"
     ]
    }
   ],
   "source": [
    "# Object of type 'period' have two important attributes: start_time & end_time which represents the bounds of the period\n",
    "start = birth_dates.index[0].start_time\n",
    "end = birth_dates.index[0].end_time\n",
    "print(start)\n",
    "print(end)"
   ]
  },
  {
   "cell_type": "code",
   "execution_count": 57,
   "metadata": {},
   "outputs": [
    {
     "data": {
      "text/plain": [
       "True"
      ]
     },
     "execution_count": 57,
     "metadata": {},
     "output_type": "execute_result"
    }
   ],
   "source": [
    "start < (start + pd.Timedelta('5H')) < end"
   ]
  },
  {
   "cell_type": "code",
   "execution_count": 58,
   "metadata": {},
   "outputs": [
    {
     "data": {
      "text/plain": [
       "False"
      ]
     },
     "execution_count": 58,
     "metadata": {},
     "output_type": "execute_result"
    }
   ],
   "source": [
    "start < (start + pd.Timedelta('25H')) < end"
   ]
  },
  {
   "cell_type": "code",
   "execution_count": 59,
   "metadata": {},
   "outputs": [
    {
     "data": {
      "text/plain": [
       "Int64Index([1940, 1940, 1940, 1942, 1943, 1944, 1945, 1945, 1945, 1945,\n",
       "            ...\n",
       "            1992, 1992, 1992, 1992, 1992, 1992, 1992, 1993, 1993, 1993],\n",
       "           dtype='int64', name='birthDate', length=4627)"
      ]
     },
     "execution_count": 59,
     "metadata": {},
     "output_type": "execute_result"
    }
   ],
   "source": [
    "# selection strategy & atrributes for timestamp & period are practically the same\n",
    "birth_dates.index.year"
   ]
  },
  {
   "cell_type": "code",
   "execution_count": 60,
   "metadata": {},
   "outputs": [
    {
     "data": {
      "text/plain": [
       "birthDate\n",
       "1975-01-02    mroziri01\n",
       "1975-01-03    vyshese01\n",
       "Freq: D, Name: playerID, dtype: object"
      ]
     },
     "execution_count": 60,
     "metadata": {},
     "output_type": "execute_result"
    }
   ],
   "source": [
    "birth_dates['1975'].head(2)"
   ]
  },
  {
   "cell_type": "code",
   "execution_count": 61,
   "metadata": {},
   "outputs": [
    {
     "data": {
      "text/plain": [
       "birthDate\n",
       "1975-01-09    eriksan01\n",
       "1975-01-09     lingda01\n",
       "Freq: D, Name: playerID, dtype: object"
      ]
     },
     "execution_count": 61,
     "metadata": {},
     "output_type": "execute_result"
    }
   ],
   "source": [
    "birth_dates[\"1975-01-09\"]"
   ]
  },
  {
   "cell_type": "code",
   "execution_count": 8,
   "metadata": {},
   "outputs": [
    {
     "data": {
      "text/plain": [
       "DatetimeIndexResampler [freq=<MonthEnd>, axis=0, closed=right, label=right, convention=start, base=0]"
      ]
     },
     "execution_count": 8,
     "metadata": {},
     "output_type": "execute_result"
    }
   ],
   "source": [
    "# Resampling or frequency conversion. '1M' -> month frequency. Used mostly for aggregation\n",
    "birth_dates.resample('1M')"
   ]
  },
  {
   "cell_type": "code",
   "execution_count": 10,
   "metadata": {},
   "outputs": [
    {
     "data": {
      "text/plain": [
       "birthDate\n",
       "1940-01-31    1\n",
       "1940-02-29    0\n",
       "1940-03-31    1\n",
       "1940-04-30    0\n",
       "1940-05-31    0\n",
       "1940-06-30    0\n",
       "1940-07-31    0\n",
       "1940-08-31    0\n",
       "1940-09-30    0\n",
       "1940-10-31    1\n",
       "1940-11-30    0\n",
       "1940-12-31    0\n",
       "Freq: M, Name: playerID, dtype: int64"
      ]
     },
     "execution_count": 10,
     "metadata": {},
     "output_type": "execute_result"
    }
   ],
   "source": [
    "# This is a bit like groupby for time series data. Below is to find how many players were born in one month.\n",
    "birth_dates.resample('1M').count().head(12)"
   ]
  },
  {
   "cell_type": "code",
   "execution_count": 11,
   "metadata": {},
   "outputs": [
    {
     "data": {
      "text/plain": [
       "birthDate\n",
       "1940-01-31    1\n",
       "1940-03-31    1\n",
       "1940-05-31    0\n",
       "1940-07-31    0\n",
       "1940-09-30    0\n",
       "Freq: 2M, Name: playerID, dtype: int64"
      ]
     },
     "execution_count": 11,
     "metadata": {},
     "output_type": "execute_result"
    }
   ],
   "source": [
    "birth_dates.resample('2M').count().head()"
   ]
  },
  {
   "cell_type": "code",
   "execution_count": 12,
   "metadata": {},
   "outputs": [
    {
     "data": {
      "text/plain": [
       "birthDate\n",
       "1940-03-31    2\n",
       "1940-06-30    0\n",
       "1940-09-30    0\n",
       "1940-12-31    1\n",
       "1941-03-31    0\n",
       "Freq: Q-DEC, Name: playerID, dtype: int64"
      ]
     },
     "execution_count": 12,
     "metadata": {},
     "output_type": "execute_result"
    }
   ],
   "source": [
    "birth_dates.resample('1Q').count().head()\n",
    "# Q-DEC"
   ]
  },
  {
   "cell_type": "code",
   "execution_count": 13,
   "metadata": {},
   "outputs": [
    {
     "data": {
      "text/plain": [
       "birthDate\n",
       "1940-01-28    1\n",
       "1940-02-04    0\n",
       "Freq: W-SUN, Name: playerID, dtype: int64"
      ]
     },
     "execution_count": 13,
     "metadata": {},
     "output_type": "execute_result"
    }
   ],
   "source": [
    "birth_dates.resample('W').count().head(2)"
   ]
  },
  {
   "cell_type": "code",
   "execution_count": 23,
   "metadata": {},
   "outputs": [
    {
     "name": "stdout",
     "output_type": "stream",
     "text": [
      "1940-10-03 00:00:00\n",
      "1940-10-14 00:00:00\n"
     ]
    }
   ],
   "source": [
    "from pandas.tseries.offsets import BDay   #Business Day\n",
    "p = birth_dates.index[2]\n",
    "print(p)\n",
    "print(p + BDay(7))"
   ]
  },
  {
   "cell_type": "code",
   "execution_count": 25,
   "metadata": {},
   "outputs": [
    {
     "data": {
      "text/plain": [
       "birthDate\n",
       "1940-01-28    harpete01\n",
       "1940-03-23     keonda01\n",
       "1940-10-04    ratelje01\n",
       "1942-02-21    esposph01\n",
       "1943-04-24    esposto01\n",
       "Name: playerID, dtype: object"
      ]
     },
     "execution_count": 25,
     "metadata": {},
     "output_type": "execute_result"
    }
   ],
   "source": [
    "birth_dates.shift(1, freq='D').head()  # shift by 1 day."
   ]
  },
  {
   "cell_type": "code",
   "execution_count": 26,
   "metadata": {},
   "outputs": [
    {
     "data": {
      "text/html": [
       "<div>\n",
       "<style scoped>\n",
       "    .dataframe tbody tr th:only-of-type {\n",
       "        vertical-align: middle;\n",
       "    }\n",
       "\n",
       "    .dataframe tbody tr th {\n",
       "        vertical-align: top;\n",
       "    }\n",
       "\n",
       "    .dataframe thead th {\n",
       "        text-align: right;\n",
       "    }\n",
       "</style>\n",
       "<table border=\"1\" class=\"dataframe\">\n",
       "  <thead>\n",
       "    <tr style=\"text-align: right;\">\n",
       "      <th></th>\n",
       "      <th></th>\n",
       "      <th></th>\n",
       "      <th>L</th>\n",
       "      <th>OL</th>\n",
       "      <th>T</th>\n",
       "      <th>W</th>\n",
       "    </tr>\n",
       "    <tr>\n",
       "      <th>name</th>\n",
       "      <th>year</th>\n",
       "      <th>month</th>\n",
       "      <th></th>\n",
       "      <th></th>\n",
       "      <th></th>\n",
       "      <th></th>\n",
       "    </tr>\n",
       "  </thead>\n",
       "  <tbody>\n",
       "    <tr>\n",
       "      <th rowspan=\"5\" valign=\"top\">Boston Bruins</th>\n",
       "      <th rowspan=\"5\" valign=\"top\">1980</th>\n",
       "      <th>Apr</th>\n",
       "      <td>2.0</td>\n",
       "      <td>NaN</td>\n",
       "      <td>0.0</td>\n",
       "      <td>1.0</td>\n",
       "    </tr>\n",
       "    <tr>\n",
       "      <th>Dec</th>\n",
       "      <td>6.0</td>\n",
       "      <td>NaN</td>\n",
       "      <td>1.0</td>\n",
       "      <td>6.0</td>\n",
       "    </tr>\n",
       "    <tr>\n",
       "      <th>Feb</th>\n",
       "      <td>4.0</td>\n",
       "      <td>NaN</td>\n",
       "      <td>2.0</td>\n",
       "      <td>6.0</td>\n",
       "    </tr>\n",
       "    <tr>\n",
       "      <th>Jan</th>\n",
       "      <td>4.0</td>\n",
       "      <td>NaN</td>\n",
       "      <td>1.0</td>\n",
       "      <td>9.0</td>\n",
       "    </tr>\n",
       "    <tr>\n",
       "      <th>Mar</th>\n",
       "      <td>4.0</td>\n",
       "      <td>NaN</td>\n",
       "      <td>3.0</td>\n",
       "      <td>8.0</td>\n",
       "    </tr>\n",
       "  </tbody>\n",
       "</table>\n",
       "</div>"
      ],
      "text/plain": [
       "                            L  OL    T    W\n",
       "name          year month                   \n",
       "Boston Bruins 1980 Apr    2.0 NaN  0.0  1.0\n",
       "                   Dec    6.0 NaN  1.0  6.0\n",
       "                   Feb    4.0 NaN  2.0  6.0\n",
       "                   Jan    4.0 NaN  1.0  9.0\n",
       "                   Mar    4.0 NaN  3.0  8.0"
      ]
     },
     "execution_count": 26,
     "metadata": {},
     "output_type": "execute_result"
    }
   ],
   "source": [
    "team_splits.head()"
   ]
  },
  {
   "cell_type": "code",
   "execution_count": 27,
   "metadata": {},
   "outputs": [
    {
     "data": {
      "text/html": [
       "<div>\n",
       "<style scoped>\n",
       "    .dataframe tbody tr th:only-of-type {\n",
       "        vertical-align: middle;\n",
       "    }\n",
       "\n",
       "    .dataframe tbody tr th {\n",
       "        vertical-align: top;\n",
       "    }\n",
       "\n",
       "    .dataframe thead th {\n",
       "        text-align: right;\n",
       "    }\n",
       "</style>\n",
       "<table border=\"1\" class=\"dataframe\">\n",
       "  <thead>\n",
       "    <tr style=\"text-align: right;\">\n",
       "      <th></th>\n",
       "      <th>name</th>\n",
       "      <th>year</th>\n",
       "      <th>month</th>\n",
       "      <th>L</th>\n",
       "      <th>OL</th>\n",
       "      <th>T</th>\n",
       "      <th>W</th>\n",
       "    </tr>\n",
       "  </thead>\n",
       "  <tbody>\n",
       "    <tr>\n",
       "      <th>0</th>\n",
       "      <td>Boston Bruins</td>\n",
       "      <td>1980</td>\n",
       "      <td>Apr</td>\n",
       "      <td>2.0</td>\n",
       "      <td>NaN</td>\n",
       "      <td>0.0</td>\n",
       "      <td>1.0</td>\n",
       "    </tr>\n",
       "    <tr>\n",
       "      <th>1</th>\n",
       "      <td>Boston Bruins</td>\n",
       "      <td>1980</td>\n",
       "      <td>Dec</td>\n",
       "      <td>6.0</td>\n",
       "      <td>NaN</td>\n",
       "      <td>1.0</td>\n",
       "      <td>6.0</td>\n",
       "    </tr>\n",
       "    <tr>\n",
       "      <th>2</th>\n",
       "      <td>Boston Bruins</td>\n",
       "      <td>1980</td>\n",
       "      <td>Feb</td>\n",
       "      <td>4.0</td>\n",
       "      <td>NaN</td>\n",
       "      <td>2.0</td>\n",
       "      <td>6.0</td>\n",
       "    </tr>\n",
       "    <tr>\n",
       "      <th>3</th>\n",
       "      <td>Boston Bruins</td>\n",
       "      <td>1980</td>\n",
       "      <td>Jan</td>\n",
       "      <td>4.0</td>\n",
       "      <td>NaN</td>\n",
       "      <td>1.0</td>\n",
       "      <td>9.0</td>\n",
       "    </tr>\n",
       "    <tr>\n",
       "      <th>4</th>\n",
       "      <td>Boston Bruins</td>\n",
       "      <td>1980</td>\n",
       "      <td>Mar</td>\n",
       "      <td>4.0</td>\n",
       "      <td>NaN</td>\n",
       "      <td>3.0</td>\n",
       "      <td>8.0</td>\n",
       "    </tr>\n",
       "  </tbody>\n",
       "</table>\n",
       "</div>"
      ],
      "text/plain": [
       "            name  year month    L  OL    T    W\n",
       "0  Boston Bruins  1980   Apr  2.0 NaN  0.0  1.0\n",
       "1  Boston Bruins  1980   Dec  6.0 NaN  1.0  6.0\n",
       "2  Boston Bruins  1980   Feb  4.0 NaN  2.0  6.0\n",
       "3  Boston Bruins  1980   Jan  4.0 NaN  1.0  9.0\n",
       "4  Boston Bruins  1980   Mar  4.0 NaN  3.0  8.0"
      ]
     },
     "execution_count": 27,
     "metadata": {},
     "output_type": "execute_result"
    }
   ],
   "source": [
    "# We are looking to convert the year and month\n",
    "# First need to drop the multi-index and create a regular period\n",
    "team_splits = team_splits.reset_index()\n",
    "team_splits.head()"
   ]
  },
  {
   "cell_type": "code",
   "execution_count": 31,
   "metadata": {},
   "outputs": [
    {
     "data": {
      "text/html": [
       "<div>\n",
       "<style scoped>\n",
       "    .dataframe tbody tr th:only-of-type {\n",
       "        vertical-align: middle;\n",
       "    }\n",
       "\n",
       "    .dataframe tbody tr th {\n",
       "        vertical-align: top;\n",
       "    }\n",
       "\n",
       "    .dataframe thead th {\n",
       "        text-align: right;\n",
       "    }\n",
       "</style>\n",
       "<table border=\"1\" class=\"dataframe\">\n",
       "  <thead>\n",
       "    <tr style=\"text-align: right;\">\n",
       "      <th></th>\n",
       "      <th>name</th>\n",
       "      <th>month</th>\n",
       "      <th>L</th>\n",
       "      <th>OL</th>\n",
       "      <th>T</th>\n",
       "      <th>W</th>\n",
       "    </tr>\n",
       "  </thead>\n",
       "  <tbody>\n",
       "    <tr>\n",
       "      <th>0</th>\n",
       "      <td>Boston Bruins</td>\n",
       "      <td>1980-04</td>\n",
       "      <td>2.0</td>\n",
       "      <td>NaN</td>\n",
       "      <td>0.0</td>\n",
       "      <td>1.0</td>\n",
       "    </tr>\n",
       "    <tr>\n",
       "      <th>1</th>\n",
       "      <td>Boston Bruins</td>\n",
       "      <td>1980-12</td>\n",
       "      <td>6.0</td>\n",
       "      <td>NaN</td>\n",
       "      <td>1.0</td>\n",
       "      <td>6.0</td>\n",
       "    </tr>\n",
       "    <tr>\n",
       "      <th>2</th>\n",
       "      <td>Boston Bruins</td>\n",
       "      <td>1980-02</td>\n",
       "      <td>4.0</td>\n",
       "      <td>NaN</td>\n",
       "      <td>2.0</td>\n",
       "      <td>6.0</td>\n",
       "    </tr>\n",
       "    <tr>\n",
       "      <th>3</th>\n",
       "      <td>Boston Bruins</td>\n",
       "      <td>1980-01</td>\n",
       "      <td>4.0</td>\n",
       "      <td>NaN</td>\n",
       "      <td>1.0</td>\n",
       "      <td>9.0</td>\n",
       "    </tr>\n",
       "    <tr>\n",
       "      <th>4</th>\n",
       "      <td>Boston Bruins</td>\n",
       "      <td>1980-03</td>\n",
       "      <td>4.0</td>\n",
       "      <td>NaN</td>\n",
       "      <td>3.0</td>\n",
       "      <td>8.0</td>\n",
       "    </tr>\n",
       "  </tbody>\n",
       "</table>\n",
       "</div>"
      ],
      "text/plain": [
       "            name   month    L  OL    T    W\n",
       "0  Boston Bruins 1980-04  2.0 NaN  0.0  1.0\n",
       "1  Boston Bruins 1980-12  6.0 NaN  1.0  6.0\n",
       "2  Boston Bruins 1980-02  4.0 NaN  2.0  6.0\n",
       "3  Boston Bruins 1980-01  4.0 NaN  1.0  9.0\n",
       "4  Boston Bruins 1980-03  4.0 NaN  3.0  8.0"
      ]
     },
     "execution_count": 31,
     "metadata": {},
     "output_type": "execute_result"
    }
   ],
   "source": [
    "# axis = 1 means rows. Apply that lambda func to all the rows. This will create a series which can be used to create \n",
    "# a new column.\n",
    "string_date = team_splits.apply(lambda x:\n",
    "                                   pd.Period(\"{}-{}\".format(x.year, x.month)),\n",
    "                                   axis=1)\n",
    "\n",
    "team_splits = team_splits.assign(month=string_date)\n",
    "team_splits = team_splits.drop(\"year\", axis=1)\n",
    "team_splits.head()"
   ]
  },
  {
   "cell_type": "code",
   "execution_count": 34,
   "metadata": {},
   "outputs": [
    {
     "data": {
      "text/plain": [
       "0   1980-04\n",
       "1   1980-12\n",
       "2   1980-02\n",
       "3   1980-01\n",
       "4   1980-03\n",
       "dtype: object"
      ]
     },
     "execution_count": 34,
     "metadata": {},
     "output_type": "execute_result"
    }
   ],
   "source": [
    "string_date.head()"
   ]
  },
  {
   "cell_type": "code",
   "execution_count": 35,
   "metadata": {},
   "outputs": [],
   "source": [
    "team_splits = team_splits.set_index(['month'])"
   ]
  },
  {
   "cell_type": "code",
   "execution_count": 38,
   "metadata": {},
   "outputs": [
    {
     "data": {
      "text/html": [
       "<div>\n",
       "<style scoped>\n",
       "    .dataframe tbody tr th:only-of-type {\n",
       "        vertical-align: middle;\n",
       "    }\n",
       "\n",
       "    .dataframe tbody tr th {\n",
       "        vertical-align: top;\n",
       "    }\n",
       "\n",
       "    .dataframe thead th {\n",
       "        text-align: right;\n",
       "    }\n",
       "</style>\n",
       "<table border=\"1\" class=\"dataframe\">\n",
       "  <thead>\n",
       "    <tr style=\"text-align: right;\">\n",
       "      <th></th>\n",
       "      <th></th>\n",
       "      <th>L</th>\n",
       "      <th>OL</th>\n",
       "      <th>T</th>\n",
       "      <th>W</th>\n",
       "    </tr>\n",
       "    <tr>\n",
       "      <th>name</th>\n",
       "      <th>month</th>\n",
       "      <th></th>\n",
       "      <th></th>\n",
       "      <th></th>\n",
       "      <th></th>\n",
       "    </tr>\n",
       "  </thead>\n",
       "  <tbody>\n",
       "    <tr>\n",
       "      <th rowspan=\"5\" valign=\"top\">Anaheim Ducks</th>\n",
       "      <th>2006Q1</th>\n",
       "      <td>4.333333</td>\n",
       "      <td>2.0</td>\n",
       "      <td>NaN</td>\n",
       "      <td>6.333333</td>\n",
       "    </tr>\n",
       "    <tr>\n",
       "      <th>2006Q2</th>\n",
       "      <td>0.000000</td>\n",
       "      <td>2.0</td>\n",
       "      <td>NaN</td>\n",
       "      <td>1.000000</td>\n",
       "    </tr>\n",
       "    <tr>\n",
       "      <th>2006Q3</th>\n",
       "      <td>NaN</td>\n",
       "      <td>NaN</td>\n",
       "      <td>NaN</td>\n",
       "      <td>NaN</td>\n",
       "    </tr>\n",
       "    <tr>\n",
       "      <th>2006Q4</th>\n",
       "      <td>2.333333</td>\n",
       "      <td>2.0</td>\n",
       "      <td>NaN</td>\n",
       "      <td>9.333333</td>\n",
       "    </tr>\n",
       "    <tr>\n",
       "      <th>2007Q1</th>\n",
       "      <td>3.333333</td>\n",
       "      <td>1.0</td>\n",
       "      <td>NaN</td>\n",
       "      <td>8.666667</td>\n",
       "    </tr>\n",
       "  </tbody>\n",
       "</table>\n",
       "</div>"
      ],
      "text/plain": [
       "                             L   OL   T         W\n",
       "name          month                              \n",
       "Anaheim Ducks 2006Q1  4.333333  2.0 NaN  6.333333\n",
       "              2006Q2  0.000000  2.0 NaN  1.000000\n",
       "              2006Q3       NaN  NaN NaN       NaN\n",
       "              2006Q4  2.333333  2.0 NaN  9.333333\n",
       "              2007Q1  3.333333  1.0 NaN  8.666667"
      ]
     },
     "execution_count": 38,
     "metadata": {},
     "output_type": "execute_result"
    }
   ],
   "source": [
    "# compute each value for each team, aggregated by quarters\n",
    "quarter_sums = team_splits.groupby('name').resample('Q').sum()\n",
    "quarter_means = team_splits.groupby('name').resample('Q').mean()\n",
    "quarter_sums.head()\n",
    "quarter_means.head()"
   ]
  },
  {
   "cell_type": "code",
   "execution_count": 39,
   "metadata": {},
   "outputs": [],
   "source": [
    "team_splits.to_pickle(os.path.join('..', 'all_that_pickle', 'team_splits_periods.pickle'))\n",
    "birth_dates.to_pickle(os.path.join('..', 'all_that_pickle', 'birth_dates.pickle'))"
   ]
  },
  {
   "cell_type": "code",
   "execution_count": null,
   "metadata": {},
   "outputs": [],
   "source": []
  }
 ],
 "metadata": {
  "kernelspec": {
   "display_name": "Python 3",
   "language": "python",
   "name": "python3"
  },
  "language_info": {
   "codemirror_mode": {
    "name": "ipython",
    "version": 3
   },
   "file_extension": ".py",
   "mimetype": "text/x-python",
   "name": "python",
   "nbconvert_exporter": "python",
   "pygments_lexer": "ipython3",
   "version": "3.6.5"
  }
 },
 "nbformat": 4,
 "nbformat_minor": 2
}
